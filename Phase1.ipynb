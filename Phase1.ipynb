{
  "nbformat": 4,
  "nbformat_minor": 0,
  "metadata": {
    "colab": {
      "provenance": [],
      "include_colab_link": true
    },
    "kernelspec": {
      "name": "python3",
      "display_name": "Python 3"
    },
    "language_info": {
      "name": "python"
    }
  },
  "cells": [
    {
      "cell_type": "markdown",
      "metadata": {
        "id": "view-in-github",
        "colab_type": "text"
      },
      "source": [
        "<a href=\"https://colab.research.google.com/github/boboguan/QM2Gr13/blob/main/Phase1.ipynb\" target=\"_parent\"><img src=\"https://colab.research.google.com/assets/colab-badge.svg\" alt=\"Open In Colab\"/></a>"
      ]
    },
    {
      "cell_type": "markdown",
      "source": [
        "**Impact of Oil Dependency on the Socio-Economic Development of Major Oil Exporters**\n",
        "\n"
      ],
      "metadata": {
        "id": "5yajb_1QVS5E"
      }
    },
    {
      "cell_type": "code",
      "execution_count": 1,
      "metadata": {
        "id": "jqS9GIaGUUvF"
      },
      "outputs": [],
      "source": [
        "import pandas as pd\n",
        "from sklearn.impute import SimpleImputer\n",
        "import seaborn as sns\n",
        "import numpy as np\n",
        "import plotly\n",
        "import plotly.express as px\n",
        "import warnings\n",
        "from statsmodels.formula.api import ols\n",
        "from statsmodels.iolib.summary2 import summary_col\n",
        "import matplotlib.pyplot as plt\n",
        "\n",
        "warnings.filterwarnings('ignore')\n",
        "sns.set(font_scale=1.5)\n",
        "sns.set_style(\"white\")\n",
        "plt.rcParams['figure.figsize'] = (12, 8)"
      ]
    },
    {
      "cell_type": "markdown",
      "source": [
        "1. Download Necessary Libraries and Upload Database Into a Data file\n",
        "2. Use appropriate Data Imputation Techniques to Fill in Missing Data\n"
      ],
      "metadata": {
        "id": "fhyNlANUU0ym"
      }
    },
    {
      "cell_type": "code",
      "source": [
        "!mkdir data\n",
        "!mkdir data/grproject"
      ],
      "metadata": {
        "id": "O-gwqYXFVtdg"
      },
      "execution_count": 2,
      "outputs": []
    },
    {
      "cell_type": "code",
      "source": [
        "from google.colab import files\n",
        "uploaded = files.upload()"
      ],
      "metadata": {
        "colab": {
          "base_uri": "https://localhost:8080/",
          "height": 69
        },
        "id": "2W5c0wntWFUL",
        "outputId": "8a971452-4ae0-473e-a100-4ae6955ebce8"
      },
      "execution_count": 3,
      "outputs": [
        {
          "output_type": "display_data",
          "data": {
            "text/plain": [
              "<IPython.core.display.HTML object>"
            ],
            "text/html": [
              "\n",
              "     <input type=\"file\" id=\"files-89ed1636-7043-4b40-bdf9-ddc4440b9e45\" name=\"files[]\" multiple disabled\n",
              "        style=\"border:none\" />\n",
              "     <output id=\"result-89ed1636-7043-4b40-bdf9-ddc4440b9e45\">\n",
              "      Upload widget is only available when the cell has been executed in the\n",
              "      current browser session. Please rerun this cell to enable.\n",
              "      </output>\n",
              "      <script>// Copyright 2017 Google LLC\n",
              "//\n",
              "// Licensed under the Apache License, Version 2.0 (the \"License\");\n",
              "// you may not use this file except in compliance with the License.\n",
              "// You may obtain a copy of the License at\n",
              "//\n",
              "//      http://www.apache.org/licenses/LICENSE-2.0\n",
              "//\n",
              "// Unless required by applicable law or agreed to in writing, software\n",
              "// distributed under the License is distributed on an \"AS IS\" BASIS,\n",
              "// WITHOUT WARRANTIES OR CONDITIONS OF ANY KIND, either express or implied.\n",
              "// See the License for the specific language governing permissions and\n",
              "// limitations under the License.\n",
              "\n",
              "/**\n",
              " * @fileoverview Helpers for google.colab Python module.\n",
              " */\n",
              "(function(scope) {\n",
              "function span(text, styleAttributes = {}) {\n",
              "  const element = document.createElement('span');\n",
              "  element.textContent = text;\n",
              "  for (const key of Object.keys(styleAttributes)) {\n",
              "    element.style[key] = styleAttributes[key];\n",
              "  }\n",
              "  return element;\n",
              "}\n",
              "\n",
              "// Max number of bytes which will be uploaded at a time.\n",
              "const MAX_PAYLOAD_SIZE = 100 * 1024;\n",
              "\n",
              "function _uploadFiles(inputId, outputId) {\n",
              "  const steps = uploadFilesStep(inputId, outputId);\n",
              "  const outputElement = document.getElementById(outputId);\n",
              "  // Cache steps on the outputElement to make it available for the next call\n",
              "  // to uploadFilesContinue from Python.\n",
              "  outputElement.steps = steps;\n",
              "\n",
              "  return _uploadFilesContinue(outputId);\n",
              "}\n",
              "\n",
              "// This is roughly an async generator (not supported in the browser yet),\n",
              "// where there are multiple asynchronous steps and the Python side is going\n",
              "// to poll for completion of each step.\n",
              "// This uses a Promise to block the python side on completion of each step,\n",
              "// then passes the result of the previous step as the input to the next step.\n",
              "function _uploadFilesContinue(outputId) {\n",
              "  const outputElement = document.getElementById(outputId);\n",
              "  const steps = outputElement.steps;\n",
              "\n",
              "  const next = steps.next(outputElement.lastPromiseValue);\n",
              "  return Promise.resolve(next.value.promise).then((value) => {\n",
              "    // Cache the last promise value to make it available to the next\n",
              "    // step of the generator.\n",
              "    outputElement.lastPromiseValue = value;\n",
              "    return next.value.response;\n",
              "  });\n",
              "}\n",
              "\n",
              "/**\n",
              " * Generator function which is called between each async step of the upload\n",
              " * process.\n",
              " * @param {string} inputId Element ID of the input file picker element.\n",
              " * @param {string} outputId Element ID of the output display.\n",
              " * @return {!Iterable<!Object>} Iterable of next steps.\n",
              " */\n",
              "function* uploadFilesStep(inputId, outputId) {\n",
              "  const inputElement = document.getElementById(inputId);\n",
              "  inputElement.disabled = false;\n",
              "\n",
              "  const outputElement = document.getElementById(outputId);\n",
              "  outputElement.innerHTML = '';\n",
              "\n",
              "  const pickedPromise = new Promise((resolve) => {\n",
              "    inputElement.addEventListener('change', (e) => {\n",
              "      resolve(e.target.files);\n",
              "    });\n",
              "  });\n",
              "\n",
              "  const cancel = document.createElement('button');\n",
              "  inputElement.parentElement.appendChild(cancel);\n",
              "  cancel.textContent = 'Cancel upload';\n",
              "  const cancelPromise = new Promise((resolve) => {\n",
              "    cancel.onclick = () => {\n",
              "      resolve(null);\n",
              "    };\n",
              "  });\n",
              "\n",
              "  // Wait for the user to pick the files.\n",
              "  const files = yield {\n",
              "    promise: Promise.race([pickedPromise, cancelPromise]),\n",
              "    response: {\n",
              "      action: 'starting',\n",
              "    }\n",
              "  };\n",
              "\n",
              "  cancel.remove();\n",
              "\n",
              "  // Disable the input element since further picks are not allowed.\n",
              "  inputElement.disabled = true;\n",
              "\n",
              "  if (!files) {\n",
              "    return {\n",
              "      response: {\n",
              "        action: 'complete',\n",
              "      }\n",
              "    };\n",
              "  }\n",
              "\n",
              "  for (const file of files) {\n",
              "    const li = document.createElement('li');\n",
              "    li.append(span(file.name, {fontWeight: 'bold'}));\n",
              "    li.append(span(\n",
              "        `(${file.type || 'n/a'}) - ${file.size} bytes, ` +\n",
              "        `last modified: ${\n",
              "            file.lastModifiedDate ? file.lastModifiedDate.toLocaleDateString() :\n",
              "                                    'n/a'} - `));\n",
              "    const percent = span('0% done');\n",
              "    li.appendChild(percent);\n",
              "\n",
              "    outputElement.appendChild(li);\n",
              "\n",
              "    const fileDataPromise = new Promise((resolve) => {\n",
              "      const reader = new FileReader();\n",
              "      reader.onload = (e) => {\n",
              "        resolve(e.target.result);\n",
              "      };\n",
              "      reader.readAsArrayBuffer(file);\n",
              "    });\n",
              "    // Wait for the data to be ready.\n",
              "    let fileData = yield {\n",
              "      promise: fileDataPromise,\n",
              "      response: {\n",
              "        action: 'continue',\n",
              "      }\n",
              "    };\n",
              "\n",
              "    // Use a chunked sending to avoid message size limits. See b/62115660.\n",
              "    let position = 0;\n",
              "    do {\n",
              "      const length = Math.min(fileData.byteLength - position, MAX_PAYLOAD_SIZE);\n",
              "      const chunk = new Uint8Array(fileData, position, length);\n",
              "      position += length;\n",
              "\n",
              "      const base64 = btoa(String.fromCharCode.apply(null, chunk));\n",
              "      yield {\n",
              "        response: {\n",
              "          action: 'append',\n",
              "          file: file.name,\n",
              "          data: base64,\n",
              "        },\n",
              "      };\n",
              "\n",
              "      let percentDone = fileData.byteLength === 0 ?\n",
              "          100 :\n",
              "          Math.round((position / fileData.byteLength) * 100);\n",
              "      percent.textContent = `${percentDone}% done`;\n",
              "\n",
              "    } while (position < fileData.byteLength);\n",
              "  }\n",
              "\n",
              "  // All done.\n",
              "  yield {\n",
              "    response: {\n",
              "      action: 'complete',\n",
              "    }\n",
              "  };\n",
              "}\n",
              "\n",
              "scope.google = scope.google || {};\n",
              "scope.google.colab = scope.google.colab || {};\n",
              "scope.google.colab._files = {\n",
              "  _uploadFiles,\n",
              "  _uploadFilesContinue,\n",
              "};\n",
              "})(self);\n",
              "</script> "
            ]
          },
          "metadata": {}
        },
        {
          "output_type": "stream",
          "name": "stdout",
          "text": [
            "Saving Oil Exporting Country Data - COUNTRY DATA.csv to Oil Exporting Country Data - COUNTRY DATA.csv\n"
          ]
        }
      ]
    },
    {
      "cell_type": "code",
      "source": [
        "df = pd.read_csv('Oil Exporting Country Data - COUNTRY DATA.csv', skiprows = 2)\n",
        "\n",
        "df.columns = ['Country', 'Year', 'GDP per Capita', 'Oil Rent',\n",
        "              'Debt to GDP Ratio', 'HDI', 'Democracy Index',\n",
        "              'Civil Rights Freedom Indexes', 'Gini Coefficient']"
      ],
      "metadata": {
        "id": "kDSSHEMlW0BJ"
      },
      "execution_count": 4,
      "outputs": []
    },
    {
      "cell_type": "code",
      "source": [
        "# Convert 'Year' to integer and other numerical columns to float\n",
        "df['Year'] = pd.to_numeric(df['Year'], errors='coerce')  # Convert to numeric, making non-numeric values NaN\n",
        "df.dropna(subset=['Year'], inplace=True)  # Drop rows where 'Year' is NaN\n",
        "df['Year'] = df['Year'].astype(int)\n",
        "df['GDP per Capita'] = pd.to_numeric(df['GDP per Capita'], errors='coerce')\n",
        "df['Oil Rent'] = pd.to_numeric(df['Oil Rent'], errors='coerce')\n",
        "df['Debt to GDP Ratio'] = pd.to_numeric(df['Debt to GDP Ratio'], errors='coerce')\n",
        "df['HDI'] = pd.to_numeric(df['HDI'], errors='coerce')\n",
        "df['Gini Coefficient'] = pd.to_numeric(df['Gini Coefficient'], errors='coerce')\n",
        "\n",
        "# Drop completely empty rows if any\n",
        "df.dropna(how='all', inplace=True)"
      ],
      "metadata": {
        "id": "8sh1CkHKX4gP"
      },
      "execution_count": 5,
      "outputs": []
    },
    {
      "cell_type": "code",
      "source": [
        "#Data Imputation\n",
        "df['Gini Coefficient'] = df['Gini Coefficient'].interpolate(method='linear')\n",
        "# Replace missing values with the mean or median of the column\n",
        "df['GDP per Capita'].fillna(df['GDP per Capita'].mean(), inplace=True)\n",
        "df['Oil Rent'].fillna(df['Oil Rent'].mean(), inplace=True)\n",
        "df['Debt to GDP Ratio'].fillna(df['Debt to GDP Ratio'].median(), inplace=True)"
      ],
      "metadata": {
        "id": "JZgO6A1DYYld"
      },
      "execution_count": 6,
      "outputs": []
    },
    {
      "cell_type": "code",
      "source": [
        "# Replace missing values with the mode (most frequent value)\n",
        "# Assuming these are categorical or ordinal and have a common frequent value\n",
        "df['Democracy Index'].fillna(df['Democracy Index'].mode()[0], inplace=True)\n",
        "df['Civil Rights Freedom Indexes'].fillna(df['Civil Rights Freedom Indexes'].mode()[0], inplace=True)\n"
      ],
      "metadata": {
        "id": "C8v2kUWrZF4F"
      },
      "execution_count": 7,
      "outputs": []
    },
    {
      "cell_type": "code",
      "source": [
        "# Verify the changes\n",
        "print(df.head())\n",
        "print(df.isnull().sum())"
      ],
      "metadata": {
        "colab": {
          "base_uri": "https://localhost:8080/"
        },
        "id": "7xB_SrALYgAL",
        "outputId": "6e0839b9-04b1-4271-ecf3-6e081fa4fbf0"
      },
      "execution_count": 8,
      "outputs": [
        {
          "output_type": "stream",
          "name": "stdout",
          "text": [
            "        Country  Year  GDP per Capita   Oil Rent  Debt to GDP Ratio    HDI  \\\n",
            "0  Saudi Arabia  2000      8795.26060  41.669171               87.2  0.737   \n",
            "1  Saudi Arabia  2001      8337.32272  33.352663               93.7  0.744   \n",
            "2  Saudi Arabia  2002      8380.95930  31.342448               96.9  0.750   \n",
            "3  Saudi Arabia  2003      9321.80387  37.034522               82.0  0.760   \n",
            "4  Saudi Arabia  2004     10935.01660  42.640930               65.0  0.770   \n",
            "\n",
            "  Democracy Index Civil Rights Freedom Indexes  Gini Coefficient  \n",
            "0           09.08                         8.85               NaN  \n",
            "1           09.08                         8.85               NaN  \n",
            "2           09.08                         8.85               NaN  \n",
            "3           09.08                         8.85               NaN  \n",
            "4           09.08                         8.85               NaN  \n",
            "Country                          0\n",
            "Year                             0\n",
            "GDP per Capita                   0\n",
            "Oil Rent                         0\n",
            "Debt to GDP Ratio                0\n",
            "HDI                              0\n",
            "Democracy Index                  0\n",
            "Civil Rights Freedom Indexes     0\n",
            "Gini Coefficient                18\n",
            "dtype: int64\n"
          ]
        }
      ]
    },
    {
      "cell_type": "code",
      "source": [
        "print(df)"
      ],
      "metadata": {
        "colab": {
          "base_uri": "https://localhost:8080/"
        },
        "id": "o1DBFSLOaD3E",
        "outputId": "c72d4b8f-38fb-4e3f-88f3-62d6d13a01da"
      },
      "execution_count": 9,
      "outputs": [
        {
          "output_type": "stream",
          "name": "stdout",
          "text": [
            "          Country  Year  GDP per Capita   Oil Rent  Debt to GDP Ratio    HDI  \\\n",
            "0    Saudi Arabia  2000      8795.26060  41.669171               87.2  0.737   \n",
            "1    Saudi Arabia  2001      8337.32272  33.352663               93.7  0.744   \n",
            "2    Saudi Arabia  2002      8380.95930  31.342448               96.9  0.750   \n",
            "3    Saudi Arabia  2003      9321.80387  37.034522               82.0  0.760   \n",
            "4    Saudi Arabia  2004     10935.01660  42.640930               65.0  0.770   \n",
            "..            ...   ...             ...        ...                ...    ...   \n",
            "126           UAE  2016     41054.53960  11.080756               19.4  0.870   \n",
            "127           UAE  2017     43063.96750  13.498573               21.6  0.897   \n",
            "128           UAE  2018     46722.26870  17.098994               20.9  0.909   \n",
            "129           UAE  2019     45376.17080  15.681591               27.3  0.920   \n",
            "130           UAE  2020     37629.17420  10.494098               36.9  0.912   \n",
            "\n",
            "    Democracy Index Civil Rights Freedom Indexes  Gini Coefficient  \n",
            "0             09.08                         8.85               NaN  \n",
            "1             09.08                         8.85               NaN  \n",
            "2             09.08                         8.85               NaN  \n",
            "3             09.08                         8.85               NaN  \n",
            "4             09.08                         8.85               NaN  \n",
            "..              ...                          ...               ...  \n",
            "126            2.75                         5.96              28.6  \n",
            "127            2.69                         8.85              27.3  \n",
            "128            2.76                         8.85              26.0  \n",
            "129            2.76                         5.88              26.0  \n",
            "130             2.7                         5.76              26.0  \n",
            "\n",
            "[126 rows x 9 columns]\n"
          ]
        }
      ]
    },
    {
      "cell_type": "markdown",
      "source": [
        "As seen on the graph, the Gini Coefficienct for Saudi Arabia can not be interpolated as there is only one data point of reference, 2019. Thus this is a weakness."
      ],
      "metadata": {
        "id": "WfDmOiWdaMJV"
      }
    },
    {
      "cell_type": "code",
      "source": [
        "#Data Cleaning\n",
        "df = df.replace(r'^\\s*$', np.nan, regex=True) #replace the empty string or strings composed with whitespace charater np.nan\n",
        "df = df.apply(pd.to_numeric, errors='coerce') # change to numeric\n",
        "df = df.replace(' ', 'NaN', regex=True)"
      ],
      "metadata": {
        "id": "MgpZ0zK5LayG"
      },
      "execution_count": 15,
      "outputs": []
    },
    {
      "cell_type": "code",
      "source": [
        "print(df)"
      ],
      "metadata": {
        "colab": {
          "base_uri": "https://localhost:8080/"
        },
        "id": "9uRISpooLlAO",
        "outputId": "bffb0dd1-13de-404e-a78e-0ae6fb7ef76b"
      },
      "execution_count": 17,
      "outputs": [
        {
          "output_type": "stream",
          "name": "stdout",
          "text": [
            "     Country  Year  GDP per Capita   Oil Rent  Debt to GDP Ratio    HDI  \\\n",
            "0        NaN  2000      8795.26060  41.669171               87.2  0.737   \n",
            "1        NaN  2001      8337.32272  33.352663               93.7  0.744   \n",
            "2        NaN  2002      8380.95930  31.342448               96.9  0.750   \n",
            "3        NaN  2003      9321.80387  37.034522               82.0  0.760   \n",
            "4        NaN  2004     10935.01660  42.640930               65.0  0.770   \n",
            "..       ...   ...             ...        ...                ...    ...   \n",
            "126      NaN  2016     41054.53960  11.080756               19.4  0.870   \n",
            "127      NaN  2017     43063.96750  13.498573               21.6  0.897   \n",
            "128      NaN  2018     46722.26870  17.098994               20.9  0.909   \n",
            "129      NaN  2019     45376.17080  15.681591               27.3  0.920   \n",
            "130      NaN  2020     37629.17420  10.494098               36.9  0.912   \n",
            "\n",
            "     Democracy Index  Civil Rights Freedom Indexes  Gini Coefficient  \n",
            "0               9.08                          8.85               NaN  \n",
            "1               9.08                          8.85               NaN  \n",
            "2               9.08                          8.85               NaN  \n",
            "3               9.08                          8.85               NaN  \n",
            "4               9.08                          8.85               NaN  \n",
            "..               ...                           ...               ...  \n",
            "126             2.75                          5.96              28.6  \n",
            "127             2.69                          8.85              27.3  \n",
            "128             2.76                          8.85              26.0  \n",
            "129             2.76                          5.88              26.0  \n",
            "130             2.70                          5.76              26.0  \n",
            "\n",
            "[126 rows x 9 columns]\n"
          ]
        }
      ]
    }
  ]
}