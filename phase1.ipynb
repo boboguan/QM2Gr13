{
  "nbformat": 4,
  "nbformat_minor": 0,
  "metadata": {
    "colab": {
      "provenance": [],
      "include_colab_link": true
    },
    "kernelspec": {
      "name": "python3",
      "display_name": "Python 3"
    },
    "language_info": {
      "name": "python"
    }
  },
  "cells": [
    {
      "cell_type": "markdown",
      "metadata": {
        "id": "view-in-github",
        "colab_type": "text"
      },
      "source": [
        "<a href=\"https://colab.research.google.com/github/boboguan/QM2Gr13/blob/main/phase1.ipynb\" target=\"_parent\"><img src=\"https://colab.research.google.com/assets/colab-badge.svg\" alt=\"Open In Colab\"/></a>"
      ]
    },
    {
      "cell_type": "markdown",
      "source": [
        "**Impact of Oil Dependency on the Socio-Economic Development of Major Oil Exporters**\n",
        "\n"
      ],
      "metadata": {
        "id": "5yajb_1QVS5E"
      }
    },
    {
      "cell_type": "code",
      "execution_count": 1,
      "metadata": {
        "id": "jqS9GIaGUUvF"
      },
      "outputs": [],
      "source": [
        "import pandas as pd\n",
        "from sklearn.impute import SimpleImputer\n",
        "import seaborn as sns\n",
        "import numpy as np\n",
        "import plotly\n",
        "import plotly.express as px\n",
        "import warnings\n",
        "from statsmodels.formula.api import ols\n",
        "from statsmodels.iolib.summary2 import summary_col\n",
        "import matplotlib.pyplot as plt\n",
        "\n",
        "warnings.filterwarnings('ignore')\n",
        "sns.set(font_scale=1.5)\n",
        "sns.set_style(\"white\")\n",
        "plt.rcParams['figure.figsize'] = (12, 8)"
      ]
    },
    {
      "cell_type": "markdown",
      "source": [
        "1. Download Necessary Libraries and Upload Database Into a Data file\n",
        "2. Use appropriate Data Imputation Techniques to Fill in Missing Data\n"
      ],
      "metadata": {
        "id": "fhyNlANUU0ym"
      }
    },
    {
      "cell_type": "code",
      "source": [
        "!mkdir data\n",
        "!mkdir data/grproject"
      ],
      "metadata": {
        "id": "O-gwqYXFVtdg"
      },
      "execution_count": 2,
      "outputs": []
    },
    {
      "cell_type": "code",
      "source": [
        "from google.colab import files\n",
        "uploaded = files.upload()"
      ],
      "metadata": {
        "colab": {
          "base_uri": "https://localhost:8080/",
          "height": 69
        },
        "id": "2W5c0wntWFUL",
        "outputId": "5ca90f2f-42a2-43d1-bfe5-bd73ff69ec9c"
      },
      "execution_count": 3,
      "outputs": [
        {
          "output_type": "display_data",
          "data": {
            "text/plain": [
              "<IPython.core.display.HTML object>"
            ],
            "text/html": [
              "\n",
              "     <input type=\"file\" id=\"files-858e592e-87fc-413e-8ec1-94befde22744\" name=\"files[]\" multiple disabled\n",
              "        style=\"border:none\" />\n",
              "     <output id=\"result-858e592e-87fc-413e-8ec1-94befde22744\">\n",
              "      Upload widget is only available when the cell has been executed in the\n",
              "      current browser session. Please rerun this cell to enable.\n",
              "      </output>\n",
              "      <script>// Copyright 2017 Google LLC\n",
              "//\n",
              "// Licensed under the Apache License, Version 2.0 (the \"License\");\n",
              "// you may not use this file except in compliance with the License.\n",
              "// You may obtain a copy of the License at\n",
              "//\n",
              "//      http://www.apache.org/licenses/LICENSE-2.0\n",
              "//\n",
              "// Unless required by applicable law or agreed to in writing, software\n",
              "// distributed under the License is distributed on an \"AS IS\" BASIS,\n",
              "// WITHOUT WARRANTIES OR CONDITIONS OF ANY KIND, either express or implied.\n",
              "// See the License for the specific language governing permissions and\n",
              "// limitations under the License.\n",
              "\n",
              "/**\n",
              " * @fileoverview Helpers for google.colab Python module.\n",
              " */\n",
              "(function(scope) {\n",
              "function span(text, styleAttributes = {}) {\n",
              "  const element = document.createElement('span');\n",
              "  element.textContent = text;\n",
              "  for (const key of Object.keys(styleAttributes)) {\n",
              "    element.style[key] = styleAttributes[key];\n",
              "  }\n",
              "  return element;\n",
              "}\n",
              "\n",
              "// Max number of bytes which will be uploaded at a time.\n",
              "const MAX_PAYLOAD_SIZE = 100 * 1024;\n",
              "\n",
              "function _uploadFiles(inputId, outputId) {\n",
              "  const steps = uploadFilesStep(inputId, outputId);\n",
              "  const outputElement = document.getElementById(outputId);\n",
              "  // Cache steps on the outputElement to make it available for the next call\n",
              "  // to uploadFilesContinue from Python.\n",
              "  outputElement.steps = steps;\n",
              "\n",
              "  return _uploadFilesContinue(outputId);\n",
              "}\n",
              "\n",
              "// This is roughly an async generator (not supported in the browser yet),\n",
              "// where there are multiple asynchronous steps and the Python side is going\n",
              "// to poll for completion of each step.\n",
              "// This uses a Promise to block the python side on completion of each step,\n",
              "// then passes the result of the previous step as the input to the next step.\n",
              "function _uploadFilesContinue(outputId) {\n",
              "  const outputElement = document.getElementById(outputId);\n",
              "  const steps = outputElement.steps;\n",
              "\n",
              "  const next = steps.next(outputElement.lastPromiseValue);\n",
              "  return Promise.resolve(next.value.promise).then((value) => {\n",
              "    // Cache the last promise value to make it available to the next\n",
              "    // step of the generator.\n",
              "    outputElement.lastPromiseValue = value;\n",
              "    return next.value.response;\n",
              "  });\n",
              "}\n",
              "\n",
              "/**\n",
              " * Generator function which is called between each async step of the upload\n",
              " * process.\n",
              " * @param {string} inputId Element ID of the input file picker element.\n",
              " * @param {string} outputId Element ID of the output display.\n",
              " * @return {!Iterable<!Object>} Iterable of next steps.\n",
              " */\n",
              "function* uploadFilesStep(inputId, outputId) {\n",
              "  const inputElement = document.getElementById(inputId);\n",
              "  inputElement.disabled = false;\n",
              "\n",
              "  const outputElement = document.getElementById(outputId);\n",
              "  outputElement.innerHTML = '';\n",
              "\n",
              "  const pickedPromise = new Promise((resolve) => {\n",
              "    inputElement.addEventListener('change', (e) => {\n",
              "      resolve(e.target.files);\n",
              "    });\n",
              "  });\n",
              "\n",
              "  const cancel = document.createElement('button');\n",
              "  inputElement.parentElement.appendChild(cancel);\n",
              "  cancel.textContent = 'Cancel upload';\n",
              "  const cancelPromise = new Promise((resolve) => {\n",
              "    cancel.onclick = () => {\n",
              "      resolve(null);\n",
              "    };\n",
              "  });\n",
              "\n",
              "  // Wait for the user to pick the files.\n",
              "  const files = yield {\n",
              "    promise: Promise.race([pickedPromise, cancelPromise]),\n",
              "    response: {\n",
              "      action: 'starting',\n",
              "    }\n",
              "  };\n",
              "\n",
              "  cancel.remove();\n",
              "\n",
              "  // Disable the input element since further picks are not allowed.\n",
              "  inputElement.disabled = true;\n",
              "\n",
              "  if (!files) {\n",
              "    return {\n",
              "      response: {\n",
              "        action: 'complete',\n",
              "      }\n",
              "    };\n",
              "  }\n",
              "\n",
              "  for (const file of files) {\n",
              "    const li = document.createElement('li');\n",
              "    li.append(span(file.name, {fontWeight: 'bold'}));\n",
              "    li.append(span(\n",
              "        `(${file.type || 'n/a'}) - ${file.size} bytes, ` +\n",
              "        `last modified: ${\n",
              "            file.lastModifiedDate ? file.lastModifiedDate.toLocaleDateString() :\n",
              "                                    'n/a'} - `));\n",
              "    const percent = span('0% done');\n",
              "    li.appendChild(percent);\n",
              "\n",
              "    outputElement.appendChild(li);\n",
              "\n",
              "    const fileDataPromise = new Promise((resolve) => {\n",
              "      const reader = new FileReader();\n",
              "      reader.onload = (e) => {\n",
              "        resolve(e.target.result);\n",
              "      };\n",
              "      reader.readAsArrayBuffer(file);\n",
              "    });\n",
              "    // Wait for the data to be ready.\n",
              "    let fileData = yield {\n",
              "      promise: fileDataPromise,\n",
              "      response: {\n",
              "        action: 'continue',\n",
              "      }\n",
              "    };\n",
              "\n",
              "    // Use a chunked sending to avoid message size limits. See b/62115660.\n",
              "    let position = 0;\n",
              "    do {\n",
              "      const length = Math.min(fileData.byteLength - position, MAX_PAYLOAD_SIZE);\n",
              "      const chunk = new Uint8Array(fileData, position, length);\n",
              "      position += length;\n",
              "\n",
              "      const base64 = btoa(String.fromCharCode.apply(null, chunk));\n",
              "      yield {\n",
              "        response: {\n",
              "          action: 'append',\n",
              "          file: file.name,\n",
              "          data: base64,\n",
              "        },\n",
              "      };\n",
              "\n",
              "      let percentDone = fileData.byteLength === 0 ?\n",
              "          100 :\n",
              "          Math.round((position / fileData.byteLength) * 100);\n",
              "      percent.textContent = `${percentDone}% done`;\n",
              "\n",
              "    } while (position < fileData.byteLength);\n",
              "  }\n",
              "\n",
              "  // All done.\n",
              "  yield {\n",
              "    response: {\n",
              "      action: 'complete',\n",
              "    }\n",
              "  };\n",
              "}\n",
              "\n",
              "scope.google = scope.google || {};\n",
              "scope.google.colab = scope.google.colab || {};\n",
              "scope.google.colab._files = {\n",
              "  _uploadFiles,\n",
              "  _uploadFilesContinue,\n",
              "};\n",
              "})(self);\n",
              "</script> "
            ]
          },
          "metadata": {}
        },
        {
          "output_type": "stream",
          "name": "stdout",
          "text": [
            "Saving Oil Exporting Country Data - COUNTRY DATA.csv to Oil Exporting Country Data - COUNTRY DATA.csv\n"
          ]
        }
      ]
    },
    {
      "cell_type": "code",
      "source": [
        "df = pd.read_csv('Oil Exporting Country Data - COUNTRY DATA.csv', skiprows = 2)\n",
        "\n",
        "df.columns = ['Country', 'Year', 'GDP_per_Capita', 'Oil_Rent',\n",
        "              'Debt_to_GDP_Ratio', 'HDI', 'Democracy_Index',\n",
        "              'Civil_Rights_Freedom_Indexes', 'Gini_Coefficient']"
      ],
      "metadata": {
        "id": "kDSSHEMlW0BJ"
      },
      "execution_count": 4,
      "outputs": []
    },
    {
      "cell_type": "code",
      "source": [
        "# Convert 'Year' to integer and other numerical columns to float\n",
        "df['Year'] = pd.to_numeric(df['Year'], errors='coerce')  # Convert to numeric, making non-numeric values NaN\n",
        "df.dropna(subset=['Year'], inplace=True)  # Drop rows where 'Year' is NaN\n",
        "df['Year'] = df['Year'].astype(int)\n",
        "df['GDP_per_Capita'] = pd.to_numeric(df['GDP_per_Capita'], errors='coerce')\n",
        "df['Oil_Rent'] = pd.to_numeric(df['Oil_Rent'], errors='coerce')\n",
        "df['Debt_to_GDP_Ratio'] = pd.to_numeric(df['Debt_to_GDP_Ratio'], errors='coerce')\n",
        "df['HDI'] = pd.to_numeric(df['HDI'], errors='coerce')\n",
        "df['Gini_Coefficient'] = pd.to_numeric(df['Gini_Coefficient'], errors='coerce')\n",
        "\n",
        "# Drop completely empty rows if any\n",
        "df.dropna(how='all', inplace=True)"
      ],
      "metadata": {
        "id": "8sh1CkHKX4gP"
      },
      "execution_count": 5,
      "outputs": []
    },
    {
      "cell_type": "code",
      "source": [
        "#Data Imputation\n",
        "df['Gini_Coefficient'] = df['Gini_Coefficient'].interpolate(method='linear')\n",
        "# Replace missing values with the mean or median of the column\n",
        "df['GDP_per_Capita'].fillna(df['GDP_per_Capita'].mean(), inplace=True)\n",
        "df['Oil_Rent'].fillna(df['Oil_Rent'].mean(), inplace=True)\n",
        "df['Debt_to_GDP_Ratio'].fillna(df['Debt_to_GDP_Ratio'].median(), inplace=True)"
      ],
      "metadata": {
        "id": "JZgO6A1DYYld"
      },
      "execution_count": 6,
      "outputs": []
    },
    {
      "cell_type": "code",
      "source": [
        "# Replace missing values with the mode (most frequent value)\n",
        "# Assuming these are categorical or ordinal and have a common frequent value\n",
        "df['Democracy_Index'].fillna(df['Democracy_Index'].mode()[0], inplace=True)\n",
        "df['Civil_Rights_Freedom_Indexes'].fillna(df['Civil_Rights_Freedom_Indexes'].mode()[0], inplace=True)\n"
      ],
      "metadata": {
        "id": "C8v2kUWrZF4F"
      },
      "execution_count": 7,
      "outputs": []
    },
    {
      "cell_type": "code",
      "source": [
        "# Verify the changes\n",
        "print(df.head())\n",
        "print(df.isnull().sum())"
      ],
      "metadata": {
        "id": "7xB_SrALYgAL",
        "colab": {
          "base_uri": "https://localhost:8080/"
        },
        "outputId": "3d5291f4-d33a-4c23-8d4f-0ceb925b1609"
      },
      "execution_count": 8,
      "outputs": [
        {
          "output_type": "stream",
          "name": "stdout",
          "text": [
            "        Country  Year  GDP_per_Capita   Oil_Rent  Debt_to_GDP_Ratio    HDI  \\\n",
            "0  Saudi Arabia  2000      8795.26060  41.669171               87.2  0.737   \n",
            "1  Saudi Arabia  2001      8337.32272  33.352663               93.7  0.744   \n",
            "2  Saudi Arabia  2002      8380.95930  31.342448               96.9  0.750   \n",
            "3  Saudi Arabia  2003      9321.80387  37.034522               82.0  0.760   \n",
            "4  Saudi Arabia  2004     10935.01660  42.640930               65.0  0.770   \n",
            "\n",
            "  Democracy_Index Civil_Rights_Freedom_Indexes  Gini_Coefficient  \n",
            "0           09.08                         8.85               NaN  \n",
            "1           09.08                         8.85               NaN  \n",
            "2           09.08                         8.85               NaN  \n",
            "3           09.08                         8.85               NaN  \n",
            "4           09.08                         8.85               NaN  \n",
            "Country                          0\n",
            "Year                             0\n",
            "GDP_per_Capita                   0\n",
            "Oil_Rent                         0\n",
            "Debt_to_GDP_Ratio                0\n",
            "HDI                              0\n",
            "Democracy_Index                  0\n",
            "Civil_Rights_Freedom_Indexes     0\n",
            "Gini_Coefficient                18\n",
            "dtype: int64\n"
          ]
        }
      ]
    },
    {
      "cell_type": "code",
      "source": [
        "print(df)"
      ],
      "metadata": {
        "id": "o1DBFSLOaD3E",
        "colab": {
          "base_uri": "https://localhost:8080/"
        },
        "outputId": "de240e41-c914-4738-fc4e-330572a15c5d"
      },
      "execution_count": 9,
      "outputs": [
        {
          "output_type": "stream",
          "name": "stdout",
          "text": [
            "          Country  Year  GDP_per_Capita   Oil_Rent  Debt_to_GDP_Ratio    HDI  \\\n",
            "0    Saudi Arabia  2000      8795.26060  41.669171               87.2  0.737   \n",
            "1    Saudi Arabia  2001      8337.32272  33.352663               93.7  0.744   \n",
            "2    Saudi Arabia  2002      8380.95930  31.342448               96.9  0.750   \n",
            "3    Saudi Arabia  2003      9321.80387  37.034522               82.0  0.760   \n",
            "4    Saudi Arabia  2004     10935.01660  42.640930               65.0  0.770   \n",
            "..            ...   ...             ...        ...                ...    ...   \n",
            "126           UAE  2016     41054.53960  11.080756               19.4  0.870   \n",
            "127           UAE  2017     43063.96750  13.498573               21.6  0.897   \n",
            "128           UAE  2018     46722.26870  17.098994               20.9  0.909   \n",
            "129           UAE  2019     45376.17080  15.681591               27.3  0.920   \n",
            "130           UAE  2020     37629.17420  10.494098               36.9  0.912   \n",
            "\n",
            "    Democracy_Index Civil_Rights_Freedom_Indexes  Gini_Coefficient  \n",
            "0             09.08                         8.85               NaN  \n",
            "1             09.08                         8.85               NaN  \n",
            "2             09.08                         8.85               NaN  \n",
            "3             09.08                         8.85               NaN  \n",
            "4             09.08                         8.85               NaN  \n",
            "..              ...                          ...               ...  \n",
            "126            2.75                         5.96              28.6  \n",
            "127            2.69                         8.85              27.3  \n",
            "128            2.76                         8.85              26.0  \n",
            "129            2.76                         5.88              26.0  \n",
            "130             2.7                         5.76              26.0  \n",
            "\n",
            "[126 rows x 9 columns]\n"
          ]
        }
      ]
    },
    {
      "cell_type": "markdown",
      "source": [
        "As seen on the graph, the Gini Coefficienct for Saudi Arabia can not be interpolated as there is only one data point of reference, 2019. Thus this is a weakness."
      ],
      "metadata": {
        "id": "WfDmOiWdaMJV"
      }
    },
    {
      "cell_type": "code",
      "source": [
        "#Data Cleaning\n",
        "df = df.replace(r'^\\s*$', np.nan, regex=True) #replace the empty string or strings composed with whitespace charater np.nan\n",
        "numeric_c = [col for col in df.columns if col != 'Country' and col != 'Year'] #drop the Country and Year column which we don't want them to be numeric\n",
        "df[numeric_c] = df[numeric_c].apply(pd.to_numeric, errors='coerce') # change to numeric\n",
        "df[numeric_c] = df[numeric_c].replace(' ', 'NaN', regex=True)"
      ],
      "metadata": {
        "id": "MgpZ0zK5LayG"
      },
      "execution_count": 10,
      "outputs": []
    },
    {
      "cell_type": "code",
      "source": [
        "print(df)"
      ],
      "metadata": {
        "id": "9uRISpooLlAO",
        "colab": {
          "base_uri": "https://localhost:8080/"
        },
        "outputId": "ba634a74-0372-44fb-c5cb-3c84b1c637c8"
      },
      "execution_count": 11,
      "outputs": [
        {
          "output_type": "stream",
          "name": "stdout",
          "text": [
            "          Country  Year  GDP_per_Capita   Oil_Rent  Debt_to_GDP_Ratio    HDI  \\\n",
            "0    Saudi Arabia  2000      8795.26060  41.669171               87.2  0.737   \n",
            "1    Saudi Arabia  2001      8337.32272  33.352663               93.7  0.744   \n",
            "2    Saudi Arabia  2002      8380.95930  31.342448               96.9  0.750   \n",
            "3    Saudi Arabia  2003      9321.80387  37.034522               82.0  0.760   \n",
            "4    Saudi Arabia  2004     10935.01660  42.640930               65.0  0.770   \n",
            "..            ...   ...             ...        ...                ...    ...   \n",
            "126           UAE  2016     41054.53960  11.080756               19.4  0.870   \n",
            "127           UAE  2017     43063.96750  13.498573               21.6  0.897   \n",
            "128           UAE  2018     46722.26870  17.098994               20.9  0.909   \n",
            "129           UAE  2019     45376.17080  15.681591               27.3  0.920   \n",
            "130           UAE  2020     37629.17420  10.494098               36.9  0.912   \n",
            "\n",
            "     Democracy_Index  Civil_Rights_Freedom_Indexes  Gini_Coefficient  \n",
            "0               9.08                          8.85               NaN  \n",
            "1               9.08                          8.85               NaN  \n",
            "2               9.08                          8.85               NaN  \n",
            "3               9.08                          8.85               NaN  \n",
            "4               9.08                          8.85               NaN  \n",
            "..               ...                           ...               ...  \n",
            "126             2.75                          5.96              28.6  \n",
            "127             2.69                          8.85              27.3  \n",
            "128             2.76                          8.85              26.0  \n",
            "129             2.76                          5.88              26.0  \n",
            "130             2.70                          5.76              26.0  \n",
            "\n",
            "[126 rows x 9 columns]\n"
          ]
        }
      ]
    },
    {
      "cell_type": "code",
      "source": [
        "!pip install linearmodels"
      ],
      "metadata": {
        "id": "2ZOOJviATMw2",
        "colab": {
          "base_uri": "https://localhost:8080/"
        },
        "outputId": "1c78e61d-8efc-4389-c873-00e0da6a0f5b"
      },
      "execution_count": 12,
      "outputs": [
        {
          "output_type": "stream",
          "name": "stdout",
          "text": [
            "Collecting linearmodels\n",
            "  Downloading linearmodels-5.3-cp310-cp310-manylinux_2_17_x86_64.manylinux2014_x86_64.whl (1.8 MB)\n",
            "\u001b[2K     \u001b[90m━━━━━━━━━━━━━━━━━━━━━━━━━━━━━━━━━━━━━━━━\u001b[0m \u001b[32m1.8/1.8 MB\u001b[0m \u001b[31m15.0 MB/s\u001b[0m eta \u001b[36m0:00:00\u001b[0m\n",
            "\u001b[?25hRequirement already satisfied: numpy>=1.19.0 in /usr/local/lib/python3.10/dist-packages (from linearmodels) (1.23.5)\n",
            "Requirement already satisfied: pandas>=1.1.0 in /usr/local/lib/python3.10/dist-packages (from linearmodels) (1.5.3)\n",
            "Requirement already satisfied: scipy>=1.5.0 in /usr/local/lib/python3.10/dist-packages (from linearmodels) (1.11.4)\n",
            "Requirement already satisfied: statsmodels>=0.12.0 in /usr/local/lib/python3.10/dist-packages (from linearmodels) (0.14.1)\n",
            "Collecting mypy-extensions>=0.4 (from linearmodels)\n",
            "  Downloading mypy_extensions-1.0.0-py3-none-any.whl (4.7 kB)\n",
            "Requirement already satisfied: Cython>=0.29.34 in /usr/local/lib/python3.10/dist-packages (from linearmodels) (3.0.6)\n",
            "Collecting pyhdfe>=0.1 (from linearmodels)\n",
            "  Downloading pyhdfe-0.2.0-py3-none-any.whl (19 kB)\n",
            "Collecting formulaic>=0.6.5 (from linearmodels)\n",
            "  Downloading formulaic-1.0.1-py3-none-any.whl (94 kB)\n",
            "\u001b[2K     \u001b[90m━━━━━━━━━━━━━━━━━━━━━━━━━━━━━━━━━━━━━━━━\u001b[0m \u001b[32m94.2/94.2 kB\u001b[0m \u001b[31m15.3 MB/s\u001b[0m eta \u001b[36m0:00:00\u001b[0m\n",
            "\u001b[?25hCollecting setuptools-scm[toml]<8.0.0,>=7.0.0 (from linearmodels)\n",
            "  Downloading setuptools_scm-7.1.0-py3-none-any.whl (43 kB)\n",
            "\u001b[2K     \u001b[90m━━━━━━━━━━━━━━━━━━━━━━━━━━━━━━━━━━━━━━━━\u001b[0m \u001b[32m43.8/43.8 kB\u001b[0m \u001b[31m6.6 MB/s\u001b[0m eta \u001b[36m0:00:00\u001b[0m\n",
            "\u001b[?25hCollecting interface-meta>=1.2.0 (from formulaic>=0.6.5->linearmodels)\n",
            "  Downloading interface_meta-1.3.0-py3-none-any.whl (14 kB)\n",
            "Requirement already satisfied: typing-extensions>=4.2.0 in /usr/local/lib/python3.10/dist-packages (from formulaic>=0.6.5->linearmodels) (4.5.0)\n",
            "Requirement already satisfied: wrapt>=1.0 in /usr/local/lib/python3.10/dist-packages (from formulaic>=0.6.5->linearmodels) (1.14.1)\n",
            "Requirement already satisfied: python-dateutil>=2.8.1 in /usr/local/lib/python3.10/dist-packages (from pandas>=1.1.0->linearmodels) (2.8.2)\n",
            "Requirement already satisfied: pytz>=2020.1 in /usr/local/lib/python3.10/dist-packages (from pandas>=1.1.0->linearmodels) (2023.3.post1)\n",
            "Requirement already satisfied: packaging>=20.0 in /usr/local/lib/python3.10/dist-packages (from setuptools-scm[toml]<8.0.0,>=7.0.0->linearmodels) (23.2)\n",
            "Requirement already satisfied: setuptools in /usr/local/lib/python3.10/dist-packages (from setuptools-scm[toml]<8.0.0,>=7.0.0->linearmodels) (67.7.2)\n",
            "Requirement already satisfied: tomli>=1.0.0 in /usr/local/lib/python3.10/dist-packages (from setuptools-scm[toml]<8.0.0,>=7.0.0->linearmodels) (2.0.1)\n",
            "Requirement already satisfied: patsy>=0.5.4 in /usr/local/lib/python3.10/dist-packages (from statsmodels>=0.12.0->linearmodels) (0.5.4)\n",
            "Requirement already satisfied: six in /usr/local/lib/python3.10/dist-packages (from patsy>=0.5.4->statsmodels>=0.12.0->linearmodels) (1.16.0)\n",
            "Installing collected packages: setuptools-scm, mypy-extensions, interface-meta, pyhdfe, formulaic, linearmodels\n",
            "Successfully installed formulaic-1.0.1 interface-meta-1.3.0 linearmodels-5.3 mypy-extensions-1.0.0 pyhdfe-0.2.0 setuptools-scm-7.1.0\n"
          ]
        }
      ]
    },
    {
      "cell_type": "code",
      "source": [
        "#present summary statistic\n",
        "summary_statistics = df.describe()\n",
        "summary_statistics"
      ],
      "metadata": {
        "id": "q8K15VVx9wLr",
        "outputId": "b4a316ad-143e-44ec-f862-6414ba7bde76",
        "colab": {
          "base_uri": "https://localhost:8080/",
          "height": 297
        }
      },
      "execution_count": 16,
      "outputs": [
        {
          "output_type": "execute_result",
          "data": {
            "text/plain": [
              "       GDP_per_Capita    Oil_Rent  Debt_to_GDP_Ratio         HDI  \\\n",
              "count      126.000000  126.000000         126.000000  126.000000   \n",
              "mean     22231.386327   18.960837          46.466612    0.819889   \n",
              "std      15249.962886   18.637075          44.214368    0.097938   \n",
              "min        809.845684    0.007525           1.600000    0.579000   \n",
              "25%       8727.486047    1.338656          16.042145    0.771250   \n",
              "50%      22231.386327   12.773774          42.322198    0.836000   \n",
              "75%      33776.278200   33.255761          56.875847    0.905500   \n",
              "max      52669.090000   65.157595         344.317417    0.937000   \n",
              "\n",
              "       Democracy_Index  Civil_Rights_Freedom_Indexes  Gini_Coefficient  \n",
              "count       124.000000                    126.000000        108.000000  \n",
              "mean          6.479597                    366.205794       1915.325000  \n",
              "std           2.931030                   4021.215832       7551.484853  \n",
              "min           1.710000                      4.320000         26.000000  \n",
              "25%           3.310000                      6.167500         33.600000  \n",
              "50%           8.200000                      8.850000         37.542857  \n",
              "75%           9.080000                      8.850000         40.825000  \n",
              "max           9.240000                  45146.000000      45138.000000  "
            ],
            "text/html": [
              "\n",
              "  <div id=\"df-a4246682-8210-48ab-9819-d3c8dfecdcfb\" class=\"colab-df-container\">\n",
              "    <div>\n",
              "<style scoped>\n",
              "    .dataframe tbody tr th:only-of-type {\n",
              "        vertical-align: middle;\n",
              "    }\n",
              "\n",
              "    .dataframe tbody tr th {\n",
              "        vertical-align: top;\n",
              "    }\n",
              "\n",
              "    .dataframe thead th {\n",
              "        text-align: right;\n",
              "    }\n",
              "</style>\n",
              "<table border=\"1\" class=\"dataframe\">\n",
              "  <thead>\n",
              "    <tr style=\"text-align: right;\">\n",
              "      <th></th>\n",
              "      <th>GDP_per_Capita</th>\n",
              "      <th>Oil_Rent</th>\n",
              "      <th>Debt_to_GDP_Ratio</th>\n",
              "      <th>HDI</th>\n",
              "      <th>Democracy_Index</th>\n",
              "      <th>Civil_Rights_Freedom_Indexes</th>\n",
              "      <th>Gini_Coefficient</th>\n",
              "    </tr>\n",
              "  </thead>\n",
              "  <tbody>\n",
              "    <tr>\n",
              "      <th>count</th>\n",
              "      <td>126.000000</td>\n",
              "      <td>126.000000</td>\n",
              "      <td>126.000000</td>\n",
              "      <td>126.000000</td>\n",
              "      <td>124.000000</td>\n",
              "      <td>126.000000</td>\n",
              "      <td>108.000000</td>\n",
              "    </tr>\n",
              "    <tr>\n",
              "      <th>mean</th>\n",
              "      <td>22231.386327</td>\n",
              "      <td>18.960837</td>\n",
              "      <td>46.466612</td>\n",
              "      <td>0.819889</td>\n",
              "      <td>6.479597</td>\n",
              "      <td>366.205794</td>\n",
              "      <td>1915.325000</td>\n",
              "    </tr>\n",
              "    <tr>\n",
              "      <th>std</th>\n",
              "      <td>15249.962886</td>\n",
              "      <td>18.637075</td>\n",
              "      <td>44.214368</td>\n",
              "      <td>0.097938</td>\n",
              "      <td>2.931030</td>\n",
              "      <td>4021.215832</td>\n",
              "      <td>7551.484853</td>\n",
              "    </tr>\n",
              "    <tr>\n",
              "      <th>min</th>\n",
              "      <td>809.845684</td>\n",
              "      <td>0.007525</td>\n",
              "      <td>1.600000</td>\n",
              "      <td>0.579000</td>\n",
              "      <td>1.710000</td>\n",
              "      <td>4.320000</td>\n",
              "      <td>26.000000</td>\n",
              "    </tr>\n",
              "    <tr>\n",
              "      <th>25%</th>\n",
              "      <td>8727.486047</td>\n",
              "      <td>1.338656</td>\n",
              "      <td>16.042145</td>\n",
              "      <td>0.771250</td>\n",
              "      <td>3.310000</td>\n",
              "      <td>6.167500</td>\n",
              "      <td>33.600000</td>\n",
              "    </tr>\n",
              "    <tr>\n",
              "      <th>50%</th>\n",
              "      <td>22231.386327</td>\n",
              "      <td>12.773774</td>\n",
              "      <td>42.322198</td>\n",
              "      <td>0.836000</td>\n",
              "      <td>8.200000</td>\n",
              "      <td>8.850000</td>\n",
              "      <td>37.542857</td>\n",
              "    </tr>\n",
              "    <tr>\n",
              "      <th>75%</th>\n",
              "      <td>33776.278200</td>\n",
              "      <td>33.255761</td>\n",
              "      <td>56.875847</td>\n",
              "      <td>0.905500</td>\n",
              "      <td>9.080000</td>\n",
              "      <td>8.850000</td>\n",
              "      <td>40.825000</td>\n",
              "    </tr>\n",
              "    <tr>\n",
              "      <th>max</th>\n",
              "      <td>52669.090000</td>\n",
              "      <td>65.157595</td>\n",
              "      <td>344.317417</td>\n",
              "      <td>0.937000</td>\n",
              "      <td>9.240000</td>\n",
              "      <td>45146.000000</td>\n",
              "      <td>45138.000000</td>\n",
              "    </tr>\n",
              "  </tbody>\n",
              "</table>\n",
              "</div>\n",
              "    <div class=\"colab-df-buttons\">\n",
              "\n",
              "  <div class=\"colab-df-container\">\n",
              "    <button class=\"colab-df-convert\" onclick=\"convertToInteractive('df-a4246682-8210-48ab-9819-d3c8dfecdcfb')\"\n",
              "            title=\"Convert this dataframe to an interactive table.\"\n",
              "            style=\"display:none;\">\n",
              "\n",
              "  <svg xmlns=\"http://www.w3.org/2000/svg\" height=\"24px\" viewBox=\"0 -960 960 960\">\n",
              "    <path d=\"M120-120v-720h720v720H120Zm60-500h600v-160H180v160Zm220 220h160v-160H400v160Zm0 220h160v-160H400v160ZM180-400h160v-160H180v160Zm440 0h160v-160H620v160ZM180-180h160v-160H180v160Zm440 0h160v-160H620v160Z\"/>\n",
              "  </svg>\n",
              "    </button>\n",
              "\n",
              "  <style>\n",
              "    .colab-df-container {\n",
              "      display:flex;\n",
              "      gap: 12px;\n",
              "    }\n",
              "\n",
              "    .colab-df-convert {\n",
              "      background-color: #E8F0FE;\n",
              "      border: none;\n",
              "      border-radius: 50%;\n",
              "      cursor: pointer;\n",
              "      display: none;\n",
              "      fill: #1967D2;\n",
              "      height: 32px;\n",
              "      padding: 0 0 0 0;\n",
              "      width: 32px;\n",
              "    }\n",
              "\n",
              "    .colab-df-convert:hover {\n",
              "      background-color: #E2EBFA;\n",
              "      box-shadow: 0px 1px 2px rgba(60, 64, 67, 0.3), 0px 1px 3px 1px rgba(60, 64, 67, 0.15);\n",
              "      fill: #174EA6;\n",
              "    }\n",
              "\n",
              "    .colab-df-buttons div {\n",
              "      margin-bottom: 4px;\n",
              "    }\n",
              "\n",
              "    [theme=dark] .colab-df-convert {\n",
              "      background-color: #3B4455;\n",
              "      fill: #D2E3FC;\n",
              "    }\n",
              "\n",
              "    [theme=dark] .colab-df-convert:hover {\n",
              "      background-color: #434B5C;\n",
              "      box-shadow: 0px 1px 3px 1px rgba(0, 0, 0, 0.15);\n",
              "      filter: drop-shadow(0px 1px 2px rgba(0, 0, 0, 0.3));\n",
              "      fill: #FFFFFF;\n",
              "    }\n",
              "  </style>\n",
              "\n",
              "    <script>\n",
              "      const buttonEl =\n",
              "        document.querySelector('#df-a4246682-8210-48ab-9819-d3c8dfecdcfb button.colab-df-convert');\n",
              "      buttonEl.style.display =\n",
              "        google.colab.kernel.accessAllowed ? 'block' : 'none';\n",
              "\n",
              "      async function convertToInteractive(key) {\n",
              "        const element = document.querySelector('#df-a4246682-8210-48ab-9819-d3c8dfecdcfb');\n",
              "        const dataTable =\n",
              "          await google.colab.kernel.invokeFunction('convertToInteractive',\n",
              "                                                    [key], {});\n",
              "        if (!dataTable) return;\n",
              "\n",
              "        const docLinkHtml = 'Like what you see? Visit the ' +\n",
              "          '<a target=\"_blank\" href=https://colab.research.google.com/notebooks/data_table.ipynb>data table notebook</a>'\n",
              "          + ' to learn more about interactive tables.';\n",
              "        element.innerHTML = '';\n",
              "        dataTable['output_type'] = 'display_data';\n",
              "        await google.colab.output.renderOutput(dataTable, element);\n",
              "        const docLink = document.createElement('div');\n",
              "        docLink.innerHTML = docLinkHtml;\n",
              "        element.appendChild(docLink);\n",
              "      }\n",
              "    </script>\n",
              "  </div>\n",
              "\n",
              "\n",
              "<div id=\"df-ae289846-1ac1-4718-8de1-ad4419cee956\">\n",
              "  <button class=\"colab-df-quickchart\" onclick=\"quickchart('df-ae289846-1ac1-4718-8de1-ad4419cee956')\"\n",
              "            title=\"Suggest charts\"\n",
              "            style=\"display:none;\">\n",
              "\n",
              "<svg xmlns=\"http://www.w3.org/2000/svg\" height=\"24px\"viewBox=\"0 0 24 24\"\n",
              "     width=\"24px\">\n",
              "    <g>\n",
              "        <path d=\"M19 3H5c-1.1 0-2 .9-2 2v14c0 1.1.9 2 2 2h14c1.1 0 2-.9 2-2V5c0-1.1-.9-2-2-2zM9 17H7v-7h2v7zm4 0h-2V7h2v10zm4 0h-2v-4h2v4z\"/>\n",
              "    </g>\n",
              "</svg>\n",
              "  </button>\n",
              "\n",
              "<style>\n",
              "  .colab-df-quickchart {\n",
              "      --bg-color: #E8F0FE;\n",
              "      --fill-color: #1967D2;\n",
              "      --hover-bg-color: #E2EBFA;\n",
              "      --hover-fill-color: #174EA6;\n",
              "      --disabled-fill-color: #AAA;\n",
              "      --disabled-bg-color: #DDD;\n",
              "  }\n",
              "\n",
              "  [theme=dark] .colab-df-quickchart {\n",
              "      --bg-color: #3B4455;\n",
              "      --fill-color: #D2E3FC;\n",
              "      --hover-bg-color: #434B5C;\n",
              "      --hover-fill-color: #FFFFFF;\n",
              "      --disabled-bg-color: #3B4455;\n",
              "      --disabled-fill-color: #666;\n",
              "  }\n",
              "\n",
              "  .colab-df-quickchart {\n",
              "    background-color: var(--bg-color);\n",
              "    border: none;\n",
              "    border-radius: 50%;\n",
              "    cursor: pointer;\n",
              "    display: none;\n",
              "    fill: var(--fill-color);\n",
              "    height: 32px;\n",
              "    padding: 0;\n",
              "    width: 32px;\n",
              "  }\n",
              "\n",
              "  .colab-df-quickchart:hover {\n",
              "    background-color: var(--hover-bg-color);\n",
              "    box-shadow: 0 1px 2px rgba(60, 64, 67, 0.3), 0 1px 3px 1px rgba(60, 64, 67, 0.15);\n",
              "    fill: var(--button-hover-fill-color);\n",
              "  }\n",
              "\n",
              "  .colab-df-quickchart-complete:disabled,\n",
              "  .colab-df-quickchart-complete:disabled:hover {\n",
              "    background-color: var(--disabled-bg-color);\n",
              "    fill: var(--disabled-fill-color);\n",
              "    box-shadow: none;\n",
              "  }\n",
              "\n",
              "  .colab-df-spinner {\n",
              "    border: 2px solid var(--fill-color);\n",
              "    border-color: transparent;\n",
              "    border-bottom-color: var(--fill-color);\n",
              "    animation:\n",
              "      spin 1s steps(1) infinite;\n",
              "  }\n",
              "\n",
              "  @keyframes spin {\n",
              "    0% {\n",
              "      border-color: transparent;\n",
              "      border-bottom-color: var(--fill-color);\n",
              "      border-left-color: var(--fill-color);\n",
              "    }\n",
              "    20% {\n",
              "      border-color: transparent;\n",
              "      border-left-color: var(--fill-color);\n",
              "      border-top-color: var(--fill-color);\n",
              "    }\n",
              "    30% {\n",
              "      border-color: transparent;\n",
              "      border-left-color: var(--fill-color);\n",
              "      border-top-color: var(--fill-color);\n",
              "      border-right-color: var(--fill-color);\n",
              "    }\n",
              "    40% {\n",
              "      border-color: transparent;\n",
              "      border-right-color: var(--fill-color);\n",
              "      border-top-color: var(--fill-color);\n",
              "    }\n",
              "    60% {\n",
              "      border-color: transparent;\n",
              "      border-right-color: var(--fill-color);\n",
              "    }\n",
              "    80% {\n",
              "      border-color: transparent;\n",
              "      border-right-color: var(--fill-color);\n",
              "      border-bottom-color: var(--fill-color);\n",
              "    }\n",
              "    90% {\n",
              "      border-color: transparent;\n",
              "      border-bottom-color: var(--fill-color);\n",
              "    }\n",
              "  }\n",
              "</style>\n",
              "\n",
              "  <script>\n",
              "    async function quickchart(key) {\n",
              "      const quickchartButtonEl =\n",
              "        document.querySelector('#' + key + ' button');\n",
              "      quickchartButtonEl.disabled = true;  // To prevent multiple clicks.\n",
              "      quickchartButtonEl.classList.add('colab-df-spinner');\n",
              "      try {\n",
              "        const charts = await google.colab.kernel.invokeFunction(\n",
              "            'suggestCharts', [key], {});\n",
              "      } catch (error) {\n",
              "        console.error('Error during call to suggestCharts:', error);\n",
              "      }\n",
              "      quickchartButtonEl.classList.remove('colab-df-spinner');\n",
              "      quickchartButtonEl.classList.add('colab-df-quickchart-complete');\n",
              "    }\n",
              "    (() => {\n",
              "      let quickchartButtonEl =\n",
              "        document.querySelector('#df-ae289846-1ac1-4718-8de1-ad4419cee956 button');\n",
              "      quickchartButtonEl.style.display =\n",
              "        google.colab.kernel.accessAllowed ? 'block' : 'none';\n",
              "    })();\n",
              "  </script>\n",
              "</div>\n",
              "    </div>\n",
              "  </div>\n"
            ]
          },
          "metadata": {},
          "execution_count": 16
        }
      ]
    },
    {
      "cell_type": "code",
      "source": [
        "#Panel Regression\n",
        "import pandas as pd\n",
        "from linearmodels import PanelOLS\n",
        "from linearmodels import RandomEffects\n",
        "import statsmodels.formula.api as smf\n",
        "from linearmodels.panel import compare\n",
        "\n",
        "df=df.set_index(['Country','Year'])\n",
        "model = PanelOLS.from_formula('GDP_per_Capita ~ 1 + Oil_Rent + Debt_to_GDP_Ratio + HDI + EntityEffects', data=df).fit()\n",
        "#set GDP/Capita as dependent variable and Oil Rent, Debt to GDP Ratio and HDI as independent variable\n",
        "print(compare({'Fixed Effects': model,}, stars=True)) #using a fixed model\n"
      ],
      "metadata": {
        "id": "X21GjIkWR74R",
        "colab": {
          "base_uri": "https://localhost:8080/"
        },
        "outputId": "de2f14c2-52a8-4c4d-eb1c-888ac48cf64b"
      },
      "execution_count": 13,
      "outputs": [
        {
          "output_type": "stream",
          "name": "stdout",
          "text": [
            "             Model Comparison             \n",
            "==========================================\n",
            "                             Fixed Effects\n",
            "------------------------------------------\n",
            "Dep. Variable               GDP_per_Capita\n",
            "Estimator                         PanelOLS\n",
            "No. Observations                       126\n",
            "Cov. Est.                       Unadjusted\n",
            "R-squared                           0.4440\n",
            "R-Squared (Within)                  0.4440\n",
            "R-Squared (Between)                 0.5696\n",
            "R-Squared (Overall)                 0.5540\n",
            "F-statistic                         31.147\n",
            "P-value (F-stat)                    0.0000\n",
            "=====================     ================\n",
            "Intercept                    -7.903e+04***\n",
            "                                 (-6.9493)\n",
            "Oil_Rent                         234.75***\n",
            "                                  (3.8114)\n",
            "Debt_to_GDP_Ratio                  -17.109\n",
            "                                 (-1.5354)\n",
            "HDI                            1.19e+05***\n",
            "                                  (9.0775)\n",
            "======================= ==================\n",
            "Effects                             Entity\n",
            "------------------------------------------\n",
            "\n",
            "T-stats reported in parentheses\n"
          ]
        }
      ]
    },
    {
      "cell_type": "code",
      "source": [
        "# Calculate the mean fixed effect for each country\n",
        "average_fixed_effects = model.estimated_effects.groupby(level='Country').mean()\n",
        "\n",
        "# Display the average fixed effects\n",
        "print(average_fixed_effects)\n"
      ],
      "metadata": {
        "id": "2tsukSc4_7bh",
        "outputId": "b9d660de-f345-4397-ff63-6d6f8e4d777e",
        "colab": {
          "base_uri": "https://localhost:8080/"
        }
      },
      "execution_count": 18,
      "outputs": [
        {
          "output_type": "stream",
          "name": "stdout",
          "text": [
            "                estimated_effects\n",
            "Country                          \n",
            "Canada               12042.277712\n",
            "Iraq                 -2599.179588\n",
            "Russia               -8652.808394\n",
            "Saudi Arabia         -8643.448288\n",
            "UAE                  13662.528251\n",
            "United States        -5809.369692\n"
          ]
        }
      ]
    },
    {
      "cell_type": "code",
      "source": [
        "import matplotlib.pyplot as plt\n",
        "\n",
        "fixed_effects = model.estimated_effects.unstack().T\n",
        "fixed_effects.plot(kind='bar', figsize=(10, 6))\n",
        "plt.title('Country-Specific Fixed Effects')\n",
        "plt.show()"
      ],
      "metadata": {
        "id": "0xn86MvpFnIh",
        "outputId": "03e76d4d-bfd3-486f-b741-304a665cf86a",
        "colab": {
          "base_uri": "https://localhost:8080/",
          "height": 863
        }
      },
      "execution_count": 19,
      "outputs": [
        {
          "output_type": "display_data",
          "data": {
            "text/plain": [
              "<Figure size 1000x600 with 1 Axes>"
            ],
            "image/png": "[encoded data removed]"
          },
          "metadata": {}
        }
      ]
    }
  ]
}