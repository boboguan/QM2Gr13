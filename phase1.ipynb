{
  "nbformat": 4,
  "nbformat_minor": 0,
  "metadata": {
    "colab": {
      "provenance": [],
      "include_colab_link": true
    },
    "kernelspec": {
      "name": "python3",
      "display_name": "Python 3"
    },
    "language_info": {
      "name": "python"
    }
  },
  "cells": [
    {
      "cell_type": "markdown",
      "metadata": {
        "id": "view-in-github",
        "colab_type": "text"
      },
      "source": [
        "<a href=\"https://colab.research.google.com/github/boboguan/QM2Gr13/blob/main/phase1.ipynb\" target=\"_parent\"><img src=\"https://colab.research.google.com/assets/colab-badge.svg\" alt=\"Open In Colab\"/></a>"
      ]
    },
    {
      "cell_type": "markdown",
      "source": [
        "**Impact of Oil Dependency on the Socio-Economic Development of Major Oil Exporters**\n",
        "\n"
      ],
      "metadata": {
        "id": "5yajb_1QVS5E"
      }
    },
    {
      "cell_type": "code",
      "execution_count": 2,
      "metadata": {
        "id": "jqS9GIaGUUvF"
      },
      "outputs": [],
      "source": [
        "import pandas as pd\n",
        "from sklearn.impute import SimpleImputer\n",
        "import seaborn as sns\n",
        "import numpy as np\n",
        "import plotly\n",
        "import plotly.express as px\n",
        "import warnings\n",
        "from statsmodels.formula.api import ols\n",
        "from statsmodels.iolib.summary2 import summary_col\n",
        "import matplotlib.pyplot as plt\n",
        "\n",
        "warnings.filterwarnings('ignore')\n",
        "sns.set(font_scale=1.5)\n",
        "sns.set_style(\"white\")\n",
        "plt.rcParams['figure.figsize'] = (12, 8)"
      ]
    },
    {
      "cell_type": "markdown",
      "source": [
        "1. Download Necessary Libraries and Upload Database Into a Data file\n",
        "2. Use appropriate Data Imputation Techniques to Fill in Missing Data\n"
      ],
      "metadata": {
        "id": "fhyNlANUU0ym"
      }
    },
    {
      "cell_type": "code",
      "source": [
        "!mkdir data\n",
        "!mkdir data/grproject"
      ],
      "metadata": {
        "id": "O-gwqYXFVtdg"
      },
      "execution_count": 3,
      "outputs": []
    },
    {
      "cell_type": "code",
      "source": [
        "from google.colab import files\n",
        "uploaded = files.upload()"
      ],
      "metadata": {
        "colab": {
          "base_uri": "https://localhost:8080/",
          "height": 69
        },
        "id": "2W5c0wntWFUL",
        "outputId": "1569787d-e3ed-43fd-8d54-12fe1537e2cd"
      },
      "execution_count": 4,
      "outputs": [
        {
          "output_type": "display_data",
          "data": {
            "text/plain": [
              "<IPython.core.display.HTML object>"
            ],
            "text/html": [
              "\n",
              "     <input type=\"file\" id=\"files-7136b991-0f63-4cbe-9787-ba865402c66a\" name=\"files[]\" multiple disabled\n",
              "        style=\"border:none\" />\n",
              "     <output id=\"result-7136b991-0f63-4cbe-9787-ba865402c66a\">\n",
              "      Upload widget is only available when the cell has been executed in the\n",
              "      current browser session. Please rerun this cell to enable.\n",
              "      </output>\n",
              "      <script>// Copyright 2017 Google LLC\n",
              "//\n",
              "// Licensed under the Apache License, Version 2.0 (the \"License\");\n",
              "// you may not use this file except in compliance with the License.\n",
              "// You may obtain a copy of the License at\n",
              "//\n",
              "//      http://www.apache.org/licenses/LICENSE-2.0\n",
              "//\n",
              "// Unless required by applicable law or agreed to in writing, software\n",
              "// distributed under the License is distributed on an \"AS IS\" BASIS,\n",
              "// WITHOUT WARRANTIES OR CONDITIONS OF ANY KIND, either express or implied.\n",
              "// See the License for the specific language governing permissions and\n",
              "// limitations under the License.\n",
              "\n",
              "/**\n",
              " * @fileoverview Helpers for google.colab Python module.\n",
              " */\n",
              "(function(scope) {\n",
              "function span(text, styleAttributes = {}) {\n",
              "  const element = document.createElement('span');\n",
              "  element.textContent = text;\n",
              "  for (const key of Object.keys(styleAttributes)) {\n",
              "    element.style[key] = styleAttributes[key];\n",
              "  }\n",
              "  return element;\n",
              "}\n",
              "\n",
              "// Max number of bytes which will be uploaded at a time.\n",
              "const MAX_PAYLOAD_SIZE = 100 * 1024;\n",
              "\n",
              "function _uploadFiles(inputId, outputId) {\n",
              "  const steps = uploadFilesStep(inputId, outputId);\n",
              "  const outputElement = document.getElementById(outputId);\n",
              "  // Cache steps on the outputElement to make it available for the next call\n",
              "  // to uploadFilesContinue from Python.\n",
              "  outputElement.steps = steps;\n",
              "\n",
              "  return _uploadFilesContinue(outputId);\n",
              "}\n",
              "\n",
              "// This is roughly an async generator (not supported in the browser yet),\n",
              "// where there are multiple asynchronous steps and the Python side is going\n",
              "// to poll for completion of each step.\n",
              "// This uses a Promise to block the python side on completion of each step,\n",
              "// then passes the result of the previous step as the input to the next step.\n",
              "function _uploadFilesContinue(outputId) {\n",
              "  const outputElement = document.getElementById(outputId);\n",
              "  const steps = outputElement.steps;\n",
              "\n",
              "  const next = steps.next(outputElement.lastPromiseValue);\n",
              "  return Promise.resolve(next.value.promise).then((value) => {\n",
              "    // Cache the last promise value to make it available to the next\n",
              "    // step of the generator.\n",
              "    outputElement.lastPromiseValue = value;\n",
              "    return next.value.response;\n",
              "  });\n",
              "}\n",
              "\n",
              "/**\n",
              " * Generator function which is called between each async step of the upload\n",
              " * process.\n",
              " * @param {string} inputId Element ID of the input file picker element.\n",
              " * @param {string} outputId Element ID of the output display.\n",
              " * @return {!Iterable<!Object>} Iterable of next steps.\n",
              " */\n",
              "function* uploadFilesStep(inputId, outputId) {\n",
              "  const inputElement = document.getElementById(inputId);\n",
              "  inputElement.disabled = false;\n",
              "\n",
              "  const outputElement = document.getElementById(outputId);\n",
              "  outputElement.innerHTML = '';\n",
              "\n",
              "  const pickedPromise = new Promise((resolve) => {\n",
              "    inputElement.addEventListener('change', (e) => {\n",
              "      resolve(e.target.files);\n",
              "    });\n",
              "  });\n",
              "\n",
              "  const cancel = document.createElement('button');\n",
              "  inputElement.parentElement.appendChild(cancel);\n",
              "  cancel.textContent = 'Cancel upload';\n",
              "  const cancelPromise = new Promise((resolve) => {\n",
              "    cancel.onclick = () => {\n",
              "      resolve(null);\n",
              "    };\n",
              "  });\n",
              "\n",
              "  // Wait for the user to pick the files.\n",
              "  const files = yield {\n",
              "    promise: Promise.race([pickedPromise, cancelPromise]),\n",
              "    response: {\n",
              "      action: 'starting',\n",
              "    }\n",
              "  };\n",
              "\n",
              "  cancel.remove();\n",
              "\n",
              "  // Disable the input element since further picks are not allowed.\n",
              "  inputElement.disabled = true;\n",
              "\n",
              "  if (!files) {\n",
              "    return {\n",
              "      response: {\n",
              "        action: 'complete',\n",
              "      }\n",
              "    };\n",
              "  }\n",
              "\n",
              "  for (const file of files) {\n",
              "    const li = document.createElement('li');\n",
              "    li.append(span(file.name, {fontWeight: 'bold'}));\n",
              "    li.append(span(\n",
              "        `(${file.type || 'n/a'}) - ${file.size} bytes, ` +\n",
              "        `last modified: ${\n",
              "            file.lastModifiedDate ? file.lastModifiedDate.toLocaleDateString() :\n",
              "                                    'n/a'} - `));\n",
              "    const percent = span('0% done');\n",
              "    li.appendChild(percent);\n",
              "\n",
              "    outputElement.appendChild(li);\n",
              "\n",
              "    const fileDataPromise = new Promise((resolve) => {\n",
              "      const reader = new FileReader();\n",
              "      reader.onload = (e) => {\n",
              "        resolve(e.target.result);\n",
              "      };\n",
              "      reader.readAsArrayBuffer(file);\n",
              "    });\n",
              "    // Wait for the data to be ready.\n",
              "    let fileData = yield {\n",
              "      promise: fileDataPromise,\n",
              "      response: {\n",
              "        action: 'continue',\n",
              "      }\n",
              "    };\n",
              "\n",
              "    // Use a chunked sending to avoid message size limits. See b/62115660.\n",
              "    let position = 0;\n",
              "    do {\n",
              "      const length = Math.min(fileData.byteLength - position, MAX_PAYLOAD_SIZE);\n",
              "      const chunk = new Uint8Array(fileData, position, length);\n",
              "      position += length;\n",
              "\n",
              "      const base64 = btoa(String.fromCharCode.apply(null, chunk));\n",
              "      yield {\n",
              "        response: {\n",
              "          action: 'append',\n",
              "          file: file.name,\n",
              "          data: base64,\n",
              "        },\n",
              "      };\n",
              "\n",
              "      let percentDone = fileData.byteLength === 0 ?\n",
              "          100 :\n",
              "          Math.round((position / fileData.byteLength) * 100);\n",
              "      percent.textContent = `${percentDone}% done`;\n",
              "\n",
              "    } while (position < fileData.byteLength);\n",
              "  }\n",
              "\n",
              "  // All done.\n",
              "  yield {\n",
              "    response: {\n",
              "      action: 'complete',\n",
              "    }\n",
              "  };\n",
              "}\n",
              "\n",
              "scope.google = scope.google || {};\n",
              "scope.google.colab = scope.google.colab || {};\n",
              "scope.google.colab._files = {\n",
              "  _uploadFiles,\n",
              "  _uploadFilesContinue,\n",
              "};\n",
              "})(self);\n",
              "</script> "
            ]
          },
          "metadata": {}
        },
        {
          "output_type": "stream",
          "name": "stdout",
          "text": [
            "Saving Oil Exporting Country Data - COUNTRY DATA.csv to Oil Exporting Country Data - COUNTRY DATA.csv\n"
          ]
        }
      ]
    },
    {
      "cell_type": "code",
      "source": [
        "df = pd.read_csv('Oil Exporting Country Data - COUNTRY DATA.csv', skiprows = 2)\n",
        "\n",
        "df.columns = ['Country', 'Year', 'GDP_per_Capita', 'Oil_Rent',\n",
        "              'Debt_to_GDP_Ratio', 'HDI', 'Democracy_Index',\n",
        "              'Civil_Rights_Freedom_Indexes', 'Gini_Coefficient']"
      ],
      "metadata": {
        "id": "kDSSHEMlW0BJ"
      },
      "execution_count": 5,
      "outputs": []
    },
    {
      "cell_type": "code",
      "source": [
        "# Convert 'Year' to integer and other numerical columns to float\n",
        "df['Year'] = pd.to_numeric(df['Year'], errors='coerce')  # Convert to numeric, making non-numeric values NaN\n",
        "df.dropna(subset=['Year'], inplace=True)  # Drop rows where 'Year' is NaN\n",
        "df['Year'] = df['Year'].astype(int)\n",
        "df['GDP_per_Capita'] = pd.to_numeric(df['GDP_per_Capita'], errors='coerce')\n",
        "df['Oil_Rent'] = pd.to_numeric(df['Oil_Rent'], errors='coerce')\n",
        "df['Debt_to_GDP_Ratio'] = pd.to_numeric(df['Debt_to_GDP_Ratio'], errors='coerce')\n",
        "df['HDI'] = pd.to_numeric(df['HDI'], errors='coerce')\n",
        "df['Gini_Coefficient'] = pd.to_numeric(df['Gini_Coefficient'], errors='coerce')\n",
        "\n",
        "# Drop completely empty rows if any\n",
        "df.dropna(how='all', inplace=True)"
      ],
      "metadata": {
        "id": "8sh1CkHKX4gP"
      },
      "execution_count": 6,
      "outputs": []
    },
    {
      "cell_type": "code",
      "source": [
        "#Data Imputation\n",
        "df['Gini_Coefficient'] = df['Gini_Coefficient'].interpolate(method='linear')\n",
        "# Replace missing values with the mean or median of the column\n",
        "df['GDP_per_Capita'].fillna(df['GDP_per_Capita'].mean(), inplace=True)\n",
        "df['Oil_Rent'].fillna(df['Oil_Rent'].mean(), inplace=True)\n",
        "df['Debt_to_GDP_Ratio'].fillna(df['Debt_to_GDP_Ratio'].median(), inplace=True)"
      ],
      "metadata": {
        "id": "JZgO6A1DYYld"
      },
      "execution_count": 7,
      "outputs": []
    },
    {
      "cell_type": "code",
      "source": [
        "# Replace missing values with the mode (most frequent value)\n",
        "# Assuming these are categorical or ordinal and have a common frequent value\n",
        "df['Democracy_Index'].fillna(df['Democracy_Index'].mode()[0], inplace=True)\n",
        "df['Civil_Rights_Freedom_Indexes'].fillna(df['Civil_Rights_Freedom_Indexes'].mode()[0], inplace=True)\n"
      ],
      "metadata": {
        "id": "C8v2kUWrZF4F"
      },
      "execution_count": 8,
      "outputs": []
    },
    {
      "cell_type": "code",
      "source": [
        "# Verify the changes\n",
        "print(df.head())\n",
        "print(df.isnull().sum())"
      ],
      "metadata": {
        "id": "7xB_SrALYgAL",
        "colab": {
          "base_uri": "https://localhost:8080/"
        },
        "outputId": "97f2d6b4-7239-4409-9f65-402428a503e8"
      },
      "execution_count": 9,
      "outputs": [
        {
          "output_type": "stream",
          "name": "stdout",
          "text": [
            "        Country  Year  GDP_per_Capita   Oil_Rent  Debt_to_GDP_Ratio    HDI  \\\n",
            "0  Saudi Arabia  2000      8795.26060  41.669171               87.2  0.737   \n",
            "1  Saudi Arabia  2001      8337.32272  33.352663               93.7  0.744   \n",
            "2  Saudi Arabia  2002      8380.95930  31.342448               96.9  0.750   \n",
            "3  Saudi Arabia  2003      9321.80387  37.034522               82.0  0.760   \n",
            "4  Saudi Arabia  2004     10935.01660  42.640930               65.0  0.770   \n",
            "\n",
            "  Democracy_Index Civil_Rights_Freedom_Indexes  Gini_Coefficient  \n",
            "0           09.08                         8.85               NaN  \n",
            "1           09.08                         8.85               NaN  \n",
            "2           09.08                         8.85               NaN  \n",
            "3           09.08                         8.85               NaN  \n",
            "4           09.08                         8.85               NaN  \n",
            "Country                          0\n",
            "Year                             0\n",
            "GDP_per_Capita                   0\n",
            "Oil_Rent                         0\n",
            "Debt_to_GDP_Ratio                0\n",
            "HDI                              0\n",
            "Democracy_Index                  0\n",
            "Civil_Rights_Freedom_Indexes     0\n",
            "Gini_Coefficient                18\n",
            "dtype: int64\n"
          ]
        }
      ]
    },
    {
      "cell_type": "code",
      "source": [
        "print(df)"
      ],
      "metadata": {
        "id": "o1DBFSLOaD3E",
        "colab": {
          "base_uri": "https://localhost:8080/"
        },
        "outputId": "52858b28-265b-4e34-a677-582dd72d96a1"
      },
      "execution_count": 10,
      "outputs": [
        {
          "output_type": "stream",
          "name": "stdout",
          "text": [
            "          Country  Year  GDP_per_Capita   Oil_Rent  Debt_to_GDP_Ratio    HDI  \\\n",
            "0    Saudi Arabia  2000      8795.26060  41.669171               87.2  0.737   \n",
            "1    Saudi Arabia  2001      8337.32272  33.352663               93.7  0.744   \n",
            "2    Saudi Arabia  2002      8380.95930  31.342448               96.9  0.750   \n",
            "3    Saudi Arabia  2003      9321.80387  37.034522               82.0  0.760   \n",
            "4    Saudi Arabia  2004     10935.01660  42.640930               65.0  0.770   \n",
            "..            ...   ...             ...        ...                ...    ...   \n",
            "126           UAE  2016     41054.53960  11.080756               19.4  0.870   \n",
            "127           UAE  2017     43063.96750  13.498573               21.6  0.897   \n",
            "128           UAE  2018     46722.26870  17.098994               20.9  0.909   \n",
            "129           UAE  2019     45376.17080  15.681591               27.3  0.920   \n",
            "130           UAE  2020     37629.17420  10.494098               36.9  0.912   \n",
            "\n",
            "    Democracy_Index Civil_Rights_Freedom_Indexes  Gini_Coefficient  \n",
            "0             09.08                         8.85               NaN  \n",
            "1             09.08                         8.85               NaN  \n",
            "2             09.08                         8.85               NaN  \n",
            "3             09.08                         8.85               NaN  \n",
            "4             09.08                         8.85               NaN  \n",
            "..              ...                          ...               ...  \n",
            "126            2.75                         5.96              28.6  \n",
            "127            2.69                         8.85              27.3  \n",
            "128            2.76                         8.85              26.0  \n",
            "129            2.76                         5.88              26.0  \n",
            "130             2.7                         5.76              26.0  \n",
            "\n",
            "[126 rows x 9 columns]\n"
          ]
        }
      ]
    },
    {
      "cell_type": "markdown",
      "source": [
        "As seen on the graph, the Gini Coefficienct for Saudi Arabia can not be interpolated as there is only one data point of reference, 2019. Thus this is a weakness."
      ],
      "metadata": {
        "id": "WfDmOiWdaMJV"
      }
    },
    {
      "cell_type": "code",
      "source": [
        "#Data Cleaning\n",
        "df = df.replace(r'^\\s*$', np.nan, regex=True) #replace the empty string or strings composed with whitespace charater np.nan\n",
        "numeric_c = [col for col in df.columns if col != 'Country' and col != 'Year'] #drop the Country and Year column which we don't want them to be numeric\n",
        "df[numeric_c] = df[numeric_c].apply(pd.to_numeric, errors='coerce') # change to numeric\n",
        "df[numeric_c] = df[numeric_c].replace(' ', 'NaN', regex=True)"
      ],
      "metadata": {
        "id": "MgpZ0zK5LayG"
      },
      "execution_count": 12,
      "outputs": []
    },
    {
      "cell_type": "code",
      "source": [
        "print(df)"
      ],
      "metadata": {
        "id": "9uRISpooLlAO",
        "colab": {
          "base_uri": "https://localhost:8080/"
        },
        "outputId": "4ad96c58-3a19-44f6-be57-91823567de04"
      },
      "execution_count": null,
      "outputs": [
        {
          "output_type": "stream",
          "name": "stdout",
          "text": [
            "            Country  Year  GDP_per_Capita   Oil_Rent  Debt_to_GDP_Ratio  \\\n",
            "0    SaudiNaNArabia  2000      8795.26060  41.669171               87.2   \n",
            "1    SaudiNaNArabia  2001      8337.32272  33.352663               93.7   \n",
            "2    SaudiNaNArabia  2002      8380.95930  31.342448               96.9   \n",
            "3    SaudiNaNArabia  2003      9321.80387  37.034522               82.0   \n",
            "4    SaudiNaNArabia  2004     10935.01660  42.640930               65.0   \n",
            "..              ...   ...             ...        ...                ...   \n",
            "126             UAE  2016     41054.53960  11.080756               19.4   \n",
            "127             UAE  2017     43063.96750  13.498573               21.6   \n",
            "128             UAE  2018     46722.26870  17.098994               20.9   \n",
            "129             UAE  2019     45376.17080  15.681591               27.3   \n",
            "130             UAE  2020     37629.17420  10.494098               36.9   \n",
            "\n",
            "       HDI  Democracy_Index  Civil_Rights_Freedom_Indexes  Gini_Coefficient  \n",
            "0    0.737             9.08                          8.85               NaN  \n",
            "1    0.744             9.08                          8.85               NaN  \n",
            "2    0.750             9.08                          8.85               NaN  \n",
            "3    0.760             9.08                          8.85               NaN  \n",
            "4    0.770             9.08                          8.85               NaN  \n",
            "..     ...              ...                           ...               ...  \n",
            "126  0.870             2.75                          5.96              28.6  \n",
            "127  0.897             2.69                          8.85              27.3  \n",
            "128  0.909             2.76                          8.85              26.0  \n",
            "129  0.920             2.76                          5.88              26.0  \n",
            "130  0.912             2.70                          5.76              26.0  \n",
            "\n",
            "[126 rows x 9 columns]\n"
          ]
        }
      ]
    },
    {
      "cell_type": "code",
      "source": [
        "!pip install linearmodels"
      ],
      "metadata": {
        "id": "2ZOOJviATMw2",
        "colab": {
          "base_uri": "https://localhost:8080/"
        },
        "outputId": "6d6407c3-a602-49b9-9bf1-bf784e1a62f7"
      },
      "execution_count": 13,
      "outputs": [
        {
          "output_type": "stream",
          "name": "stdout",
          "text": [
            "Collecting linearmodels\n",
            "  Downloading linearmodels-5.3-cp310-cp310-manylinux_2_17_x86_64.manylinux2014_x86_64.whl (1.8 MB)\n",
            "\u001b[2K     \u001b[90m━━━━━━━━━━━━━━━━━━━━━━━━━━━━━━━━━━━━━━━━\u001b[0m \u001b[32m1.8/1.8 MB\u001b[0m \u001b[31m9.2 MB/s\u001b[0m eta \u001b[36m0:00:00\u001b[0m\n",
            "\u001b[?25hRequirement already satisfied: numpy>=1.19.0 in /usr/local/lib/python3.10/dist-packages (from linearmodels) (1.23.5)\n",
            "Requirement already satisfied: pandas>=1.1.0 in /usr/local/lib/python3.10/dist-packages (from linearmodels) (1.5.3)\n",
            "Requirement already satisfied: scipy>=1.5.0 in /usr/local/lib/python3.10/dist-packages (from linearmodels) (1.11.4)\n",
            "Requirement already satisfied: statsmodels>=0.12.0 in /usr/local/lib/python3.10/dist-packages (from linearmodels) (0.14.1)\n",
            "Collecting mypy-extensions>=0.4 (from linearmodels)\n",
            "  Downloading mypy_extensions-1.0.0-py3-none-any.whl (4.7 kB)\n",
            "Requirement already satisfied: Cython>=0.29.34 in /usr/local/lib/python3.10/dist-packages (from linearmodels) (3.0.6)\n",
            "Collecting pyhdfe>=0.1 (from linearmodels)\n",
            "  Downloading pyhdfe-0.2.0-py3-none-any.whl (19 kB)\n",
            "Collecting formulaic>=0.6.5 (from linearmodels)\n",
            "  Downloading formulaic-1.0.1-py3-none-any.whl (94 kB)\n",
            "\u001b[2K     \u001b[90m━━━━━━━━━━━━━━━━━━━━━━━━━━━━━━━━━━━━━━━━\u001b[0m \u001b[32m94.2/94.2 kB\u001b[0m \u001b[31m10.3 MB/s\u001b[0m eta \u001b[36m0:00:00\u001b[0m\n",
            "\u001b[?25hCollecting setuptools-scm[toml]<8.0.0,>=7.0.0 (from linearmodels)\n",
            "  Downloading setuptools_scm-7.1.0-py3-none-any.whl (43 kB)\n",
            "\u001b[2K     \u001b[90m━━━━━━━━━━━━━━━━━━━━━━━━━━━━━━━━━━━━━━━━\u001b[0m \u001b[32m43.8/43.8 kB\u001b[0m \u001b[31m5.1 MB/s\u001b[0m eta \u001b[36m0:00:00\u001b[0m\n",
            "\u001b[?25hCollecting interface-meta>=1.2.0 (from formulaic>=0.6.5->linearmodels)\n",
            "  Downloading interface_meta-1.3.0-py3-none-any.whl (14 kB)\n",
            "Requirement already satisfied: typing-extensions>=4.2.0 in /usr/local/lib/python3.10/dist-packages (from formulaic>=0.6.5->linearmodels) (4.5.0)\n",
            "Requirement already satisfied: wrapt>=1.0 in /usr/local/lib/python3.10/dist-packages (from formulaic>=0.6.5->linearmodels) (1.14.1)\n",
            "Requirement already satisfied: python-dateutil>=2.8.1 in /usr/local/lib/python3.10/dist-packages (from pandas>=1.1.0->linearmodels) (2.8.2)\n",
            "Requirement already satisfied: pytz>=2020.1 in /usr/local/lib/python3.10/dist-packages (from pandas>=1.1.0->linearmodels) (2023.3.post1)\n",
            "Requirement already satisfied: packaging>=20.0 in /usr/local/lib/python3.10/dist-packages (from setuptools-scm[toml]<8.0.0,>=7.0.0->linearmodels) (23.2)\n",
            "Requirement already satisfied: setuptools in /usr/local/lib/python3.10/dist-packages (from setuptools-scm[toml]<8.0.0,>=7.0.0->linearmodels) (67.7.2)\n",
            "Requirement already satisfied: tomli>=1.0.0 in /usr/local/lib/python3.10/dist-packages (from setuptools-scm[toml]<8.0.0,>=7.0.0->linearmodels) (2.0.1)\n",
            "Requirement already satisfied: patsy>=0.5.4 in /usr/local/lib/python3.10/dist-packages (from statsmodels>=0.12.0->linearmodels) (0.5.4)\n",
            "Requirement already satisfied: six in /usr/local/lib/python3.10/dist-packages (from patsy>=0.5.4->statsmodels>=0.12.0->linearmodels) (1.16.0)\n",
            "Installing collected packages: setuptools-scm, mypy-extensions, interface-meta, pyhdfe, formulaic, linearmodels\n",
            "Successfully installed formulaic-1.0.1 interface-meta-1.3.0 linearmodels-5.3 mypy-extensions-1.0.0 pyhdfe-0.2.0 setuptools-scm-7.1.0\n"
          ]
        }
      ]
    },
    {
      "cell_type": "code",
      "source": [
        "#Panel Regression\n",
        "import pandas as pd\n",
        "from linearmodels import PanelOLS\n",
        "from linearmodels import RandomEffects\n",
        "import statsmodels.formula.api as smf\n",
        "from linearmodels.panel import compare\n",
        "\n",
        "df=df.set_index(['Country','Year']) # set the index to the county fips code and the year\n",
        "model = PanelOLS.from_formula('GDP_per_Capita ~ 1 + Oil_Rent + Debt_to_GDP_Ratio + HDI + EntityEffects', data=df).fit()\n",
        "#set GDP/Capita as dependent variable and Oil Rent, Debt to GDP Ratio and HDI as independent variable\n",
        "print(compare({'Fixed Effects': model,}, stars=True))\n"
      ],
      "metadata": {
        "id": "X21GjIkWR74R",
        "colab": {
          "base_uri": "https://localhost:8080/"
        },
        "outputId": "175da6d5-f2ce-4646-c672-301dc2c7b94a"
      },
      "execution_count": 14,
      "outputs": [
        {
          "output_type": "stream",
          "name": "stdout",
          "text": [
            "             Model Comparison             \n",
            "==========================================\n",
            "                             Fixed Effects\n",
            "------------------------------------------\n",
            "Dep. Variable               GDP_per_Capita\n",
            "Estimator                         PanelOLS\n",
            "No. Observations                       126\n",
            "Cov. Est.                       Unadjusted\n",
            "R-squared                           0.4440\n",
            "R-Squared (Within)                  0.4440\n",
            "R-Squared (Between)                 0.5696\n",
            "R-Squared (Overall)                 0.5540\n",
            "F-statistic                         31.147\n",
            "P-value (F-stat)                    0.0000\n",
            "=====================     ================\n",
            "Intercept                    -7.903e+04***\n",
            "                                 (-6.9493)\n",
            "Oil_Rent                         234.75***\n",
            "                                  (3.8114)\n",
            "Debt_to_GDP_Ratio                  -17.109\n",
            "                                 (-1.5354)\n",
            "HDI                            1.19e+05***\n",
            "                                  (9.0775)\n",
            "======================= ==================\n",
            "Effects                             Entity\n",
            "------------------------------------------\n",
            "\n",
            "T-stats reported in parentheses\n"
          ]
        }
      ]
    }
  ]
}